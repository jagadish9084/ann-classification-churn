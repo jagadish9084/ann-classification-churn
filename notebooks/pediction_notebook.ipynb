{
 "cells": [
  {
   "cell_type": "code",
   "execution_count": 33,
   "metadata": {},
   "outputs": [],
   "source": [
    "import pandas as pd\n",
    "import numpy as np\n",
    "import pickle\n",
    "from tensorflow.keras.models import load_model"
   ]
  },
  {
   "cell_type": "code",
   "execution_count": null,
   "metadata": {},
   "outputs": [],
   "source": [
    "## Import scalar, model, encoder\n",
    "pickle_path = \"../preprocessors/\"\n",
    "with open(pickle_path+'label_encoder_gender.pkl', 'rb') as file:\n",
    "    label_encoder_gender = pickle.load(file)\n",
    "\n",
    "with open(pickle_path+'on_hot_encoder_geography.pkl', 'rb') as file:\n",
    "    on_hot_encoder_geography = pickle.load(file)\n",
    "\n",
    "with open(pickle_path+'scalar.pkl', 'rb') as file:\n",
    "    scalar = pickle.load(file)    \n",
    "\n",
    "model = load_model('../models/model.h5')"
   ]
  },
  {
   "cell_type": "code",
   "execution_count": 35,
   "metadata": {},
   "outputs": [],
   "source": [
    "input_data =   {\n",
    "    \"CreditScore\": 600,\n",
    "    \"Geography\": \"France\",\n",
    "    \"Gender\": \"Male\",\n",
    "    \"Age\": 40,\n",
    "    \"Tenure\": 3,\n",
    "    \"Balance\": 60000,\n",
    "    \"NumOfProducts\": 2,\n",
    "    \"HasCrCard\": 1,\n",
    "    \"IsActiveMember\": 1,\n",
    "    \"EstimatedSalary\": 50000\n",
    "  }"
   ]
  },
  {
   "cell_type": "code",
   "execution_count": null,
   "metadata": {},
   "outputs": [],
   "source": [
    "input_df = pd.DataFrame([input_data])\n",
    "input_df['Gender'] = label_encoder_gender.transform(input_df['Gender'])\n",
    "encoded_geo = pd.DataFrame(on_hot_encoder_geography.transform(input_df[['Geography']]), columns=on_hot_encoder_geography.get_feature_names_out())\n",
    "data = pd.concat([input_df.drop(['Geography'], axis=1), encoded_geo], axis=1)\n",
    "scaled_data = scalar.transform(data)\n"
   ]
  },
  {
   "cell_type": "code",
   "execution_count": 37,
   "metadata": {},
   "outputs": [
    {
     "name": "stdout",
     "output_type": "stream",
     "text": [
      "1/1 [==============================] - 0s 44ms/step\n"
     ]
    },
    {
     "data": {
      "text/plain": [
       "array([[0.03767076]], dtype=float32)"
      ]
     },
     "execution_count": 37,
     "metadata": {},
     "output_type": "execute_result"
    }
   ],
   "source": [
    "# Predict Churn\n",
    "prediction = model.predict(scaled_data)\n",
    "prediction"
   ]
  },
  {
   "cell_type": "code",
   "execution_count": 38,
   "metadata": {},
   "outputs": [
    {
     "name": "stdout",
     "output_type": "stream",
     "text": [
      "Customer will not churn\n"
     ]
    }
   ],
   "source": [
    "prediction_prob = prediction[0][0]\n",
    "if prediction_prob > 0.5:\n",
    "    print('Customer will churn')\n",
    "else:\n",
    "    print('Customer will not churn')"
   ]
  }
 ],
 "metadata": {
  "kernelspec": {
   "display_name": "Python 3",
   "language": "python",
   "name": "python3"
  },
  "language_info": {
   "codemirror_mode": {
    "name": "ipython",
    "version": 3
   },
   "file_extension": ".py",
   "mimetype": "text/x-python",
   "name": "python",
   "nbconvert_exporter": "python",
   "pygments_lexer": "ipython3",
   "version": "3.11.11"
  }
 },
 "nbformat": 4,
 "nbformat_minor": 2
}
